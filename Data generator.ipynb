{
 "cells": [
  {
   "cell_type": "markdown",
   "metadata": {},
   "source": [
    "# Read genomic data with PyPlink"
   ]
  },
  {
   "cell_type": "code",
   "execution_count": 1,
   "metadata": {},
   "outputs": [],
   "source": [
    "from pyplink import PyPlink\n",
    "import pandas as pd"
   ]
  },
  {
   "cell_type": "code",
   "execution_count": 2,
   "metadata": {},
   "outputs": [],
   "source": [
    "j = 0\n",
    "df = pd.DataFrame()"
   ]
  },
  {
   "cell_type": "code",
   "execution_count": null,
   "metadata": {},
   "outputs": [],
   "source": [
    "with PyPlink(\"C:/Users/edoge/Desktop/Università/Epistasis/Codes/EpiGTBN/Prova/CD_UC_CON_QCed_rel1_without_relatives_maf0.05_hwe0.001_Liu2015_232SNPs_LD0.75_noFilter_binary\") as bed:\n",
    "        # GettinM\n",
    "        bim = bed.get_bim()\n",
    "        fam = bed.get_fam()\n",
    "   \n",
    "        # Iterating over all loci\n",
    "        i = 0;\n",
    "        for loci_name, genotypes in bed:\n",
    "            i += 1\n",
    "            df[loci_name] = genotypes[:]\n",
    "\n",
    "df[\"Y\"] = fam[\"status\"]\n",
    "df.to_csv(\"complete_withANSWER.csv\",index=False)"
   ]
  }
 ],
 "metadata": {
  "kernelspec": {
   "display_name": "Python 3",
   "language": "python",
   "name": "python3"
  },
  "language_info": {
   "codemirror_mode": {
    "name": "ipython",
    "version": 3
   },
   "file_extension": ".py",
   "mimetype": "text/x-python",
   "name": "python",
   "nbconvert_exporter": "python",
   "pygments_lexer": "ipython3",
   "version": "3.8.3"
  }
 },
 "nbformat": 4,
 "nbformat_minor": 4
}
